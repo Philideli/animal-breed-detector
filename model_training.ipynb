{
  "cells": [
    {
      "cell_type": "markdown",
      "metadata": {
        "id": "GaTTQ6iSRVZx"
      },
      "source": [
        "# Tensorflow 2 Object Detection: Train model\n",
        "\n"
      ]
    },
    {
      "cell_type": "markdown",
      "metadata": {
        "id": "KNT9cI_ZSCla"
      },
      "source": [
        "## Installation"
      ]
    },
    {
      "cell_type": "markdown",
      "metadata": {},
      "source": [
        "First, verify if GPU is available for training. If not, please adjust this in your environment (in Colab)."
      ]
    },
    {
      "cell_type": "code",
      "execution_count": null,
      "metadata": {},
      "outputs": [],
      "source": [
        "import tensorflow as tf\n",
        "device_name = tf.test.gpu_device_name()\n",
        "if device_name != '/device:GPU:0':\n",
        "  raise SystemError('GPU device not found')\n",
        "print('Found GPU at: {}'.format(device_name))"
      ]
    },
    {
      "cell_type": "markdown",
      "metadata": {},
      "source": [
        "Download tensorflow models repo including the TFOD API"
      ]
    },
    {
      "cell_type": "code",
      "execution_count": null,
      "metadata": {
        "colab": {
          "base_uri": "https://localhost:8080/"
        },
        "id": "Kpha2-F_SGBj",
        "outputId": "196280c1-96f7-4ba1-afc4-12feb891bb40"
      },
      "outputs": [],
      "source": [
        "import os\n",
        "import pathlib\n",
        "\n",
        "# Clone the tensorflow models repository if it doesn't already exist\n",
        "if \"models\" in pathlib.Path.cwd().parts:\n",
        "  while \"models\" in pathlib.Path.cwd().parts:\n",
        "    os.chdir('..')\n",
        "elif not pathlib.Path('models').exists():\n",
        "  !git clone --depth 1 https://github.com/tensorflow/models"
      ]
    },
    {
      "cell_type": "markdown",
      "metadata": {},
      "source": [
        "Download our repository"
      ]
    },
    {
      "cell_type": "code",
      "execution_count": null,
      "metadata": {
        "colab": {
          "base_uri": "https://localhost:8080/"
        },
        "id": "Xz0B4r03OYAW",
        "outputId": "761f325a-45e3-4e56-a557-7295c79f3a03"
      },
      "outputs": [],
      "source": [
        "\n",
        "if \"animal-detection\" in pathlib.Path.cwd().parts:\n",
        "  while \"animal-detection\" in pathlib.Path.cwd().parts:\n",
        "    os.chdir('..')\n",
        "elif not pathlib.Path('animal-detection').exists():\n",
        "  !git clone --depth 1 https://github.com/Philideli/animal-breed-detector.git ./animal-detection"
      ]
    },
    {
      "cell_type": "markdown",
      "metadata": {},
      "source": [
        "Adjust setup.py according to answer in https://github.com/tensorflow/tensorflow/issues/64349\n",
        "this is a temporary workaround and is an issue with tf/keras"
      ]
    },
    {
      "cell_type": "code",
      "execution_count": null,
      "metadata": {
        "id": "oIRpY_BMOu9m"
      },
      "outputs": [],
      "source": [
        "\n",
        "!rm /content/models/research/object_detection/packages/tf2/setup.py\n",
        "!cp /content/animal-detection/src/hotfixes/object_detection_tf2_hotfix_setup.py /content/models/research/object_detection/packages/tf2/setup.py"
      ]
    },
    {
      "cell_type": "markdown",
      "metadata": {},
      "source": [
        "Temporary hack for tf 2.15 - adjust code in tfexample_decoder inside of the tf_slim package"
      ]
    },
    {
      "cell_type": "code",
      "execution_count": null,
      "metadata": {
        "id": "2c7c7lSJ57pi"
      },
      "outputs": [],
      "source": [
        "\n",
        "!rm /usr/local/lib/python3.10/dist-packages/tf_slim/data/tfexample_decoder.py\n",
        "!cp /content/animal-detection/src/hotfixes/tfexample_decoder_tf_slim_lib_hotfix.py /usr/local/lib/python3.10/dist-packages/tf_slim/data/tfexample_decoder.py"
      ]
    },
    {
      "cell_type": "markdown",
      "metadata": {},
      "source": [
        "Install the Object Detection API"
      ]
    },
    {
      "cell_type": "code",
      "execution_count": null,
      "metadata": {
        "id": "rmr2UdV_SHuc"
      },
      "outputs": [],
      "source": [
        "\n",
        "%%bash\n",
        "cd /content/models/research/\n",
        "protoc object_detection/protos/*.proto --python_out=.\n",
        "cp object_detection/packages/tf2/setup.py .\n",
        "python -m pip install ."
      ]
    },
    {
      "cell_type": "markdown",
      "metadata": {},
      "source": [
        "Run model builder test. Only continue if the test was successful"
      ]
    },
    {
      "cell_type": "code",
      "execution_count": null,
      "metadata": {
        "id": "XzXxTBXHSNqA"
      },
      "outputs": [],
      "source": [
        "\n",
        "!python /content/models/research/object_detection/builders/model_builder_tf2_test.py"
      ]
    },
    {
      "cell_type": "markdown",
      "metadata": {
        "id": "Iz1sd2reSTxg"
      },
      "source": [
        "## Prepare data"
      ]
    },
    {
      "cell_type": "code",
      "execution_count": null,
      "metadata": {
        "id": "FJjJbIx4AqhK"
      },
      "outputs": [],
      "source": [
        "%cd /content/animal-detection/src"
      ]
    },
    {
      "cell_type": "markdown",
      "metadata": {},
      "source": [
        "Download the train/test data: images of animals and annotations with their breeds and other info"
      ]
    },
    {
      "cell_type": "code",
      "execution_count": null,
      "metadata": {
        "id": "AnUXXJ2kAxJE"
      },
      "outputs": [],
      "source": [
        "import urllib, os\n",
        "urllib.request.urlretrieve(\"https://thor.robots.ox.ac.uk/~vgg/data/pets/annotations.tar.gz\", \"annotations.tar.gz\")\n",
        "print('downloaded annotations')\n",
        "urllib.request.urlretrieve(\"https://thor.robots.ox.ac.uk/~vgg/data/pets/images.tar.gz\", \"images.tar.gz\")\n",
        "print('downloaded images')\n",
        "\n",
        "os.makedirs('./data/datasets/raw/my_dataset/annotations', exist_ok=True)\n",
        "os.makedirs('./data/datasets/raw/my_dataset/images', exist_ok=True)\n",
        "!tar -zxf ./annotations.tar.gz --directory ./data/datasets/raw/my_dataset/annotations\n",
        "!tar -zxf ./images.tar.gz --directory ./data/datasets/raw/my_dataset/images"
      ]
    },
    {
      "cell_type": "code",
      "execution_count": null,
      "metadata": {
        "id": "eaHlvWMbDVcz"
      },
      "outputs": [],
      "source": [
        "%cd /content/animal-detection"
      ]
    },
    {
      "cell_type": "code",
      "execution_count": null,
      "metadata": {
        "id": "Ng1TaaxoA8Hn"
      },
      "outputs": [],
      "source": [
        "! python -m src.data.preparation -m verbose -sr 0.2"
      ]
    },
    {
      "cell_type": "markdown",
      "metadata": {
        "id": "YawyVBRvuTTE"
      },
      "source": [
        "### Retrieve generate_tfrecord.py and labelmap\n",
        "There are multiple ways to do this, I have included the files needed within my Kaggle dataset, but you could also download them from Github, or even connect your Google Drive and retrieve them that way"
      ]
    },
    {
      "cell_type": "code",
      "execution_count": null,
      "metadata": {
        "id": "Z_W_8L24c4Sk"
      },
      "outputs": [],
      "source": [
        "train_record_path = '/content/animal-detection/src/data/datasets/processed/my_dataset/train.record'\n",
        "test_record_path = '/content/animal-detection/src/data/datasets/processed/my_dataset/eval.record'\n",
        "labelmap_path = '/content/animal-detection/src/data/datasets/processed/my_dataset/label_map.pbtxt'"
      ]
    },
    {
      "cell_type": "markdown",
      "metadata": {
        "id": "SK79i98YSY8a"
      },
      "source": [
        "## Configuring training\n",
        "\n",
        "Now that the data is ready it's time to create a training configuration. The OD API supports lots of models, each with its own config file. In this notebook I'm making use of EfficientDet, but you can replace it with any model available in the [Tensorflow 2 Detection Model Zoo](https://github.com/tensorflow/models/blob/master/research/object_detection/g3doc/tf2_detection_zoo.md)."
      ]
    },
    {
      "cell_type": "code",
      "execution_count": null,
      "metadata": {
        "id": "dWTFbG0JJsbz"
      },
      "outputs": [],
      "source": [
        "%cd /content/animal-detection/src/models"
      ]
    },
    {
      "cell_type": "code",
      "execution_count": null,
      "metadata": {
        "id": "Axko9Jd0hEI3"
      },
      "outputs": [],
      "source": [
        "batch_size = 12\n",
        "num_steps = 30000\n",
        "num_eval_steps = 5000\n",
        "num_classes = 37"
      ]
    },
    {
      "cell_type": "code",
      "execution_count": null,
      "metadata": {
        "id": "8RNI68K_dyzX"
      },
      "outputs": [],
      "source": [
        "!wget http://download.tensorflow.org/models/object_detection/tf2/20200711/efficientdet_d0_coco17_tpu-32.tar.gz\n",
        "!tar -xf efficientdet_d0_coco17_tpu-32.tar.gz"
      ]
    },
    {
      "cell_type": "code",
      "execution_count": null,
      "metadata": {
        "id": "dvKbJFv5KeYs"
      },
      "outputs": [],
      "source": [
        "%cd /content/animal-detection/src/models/efficientdet_d0_coco17_tpu-32"
      ]
    },
    {
      "cell_type": "code",
      "execution_count": null,
      "metadata": {
        "id": "HKENdH3TfhGb"
      },
      "outputs": [],
      "source": [
        "fine_tune_checkpoint = '/content/animal-detection/src/models/efficientdet_d0_coco17_tpu-32/checkpoint/ckpt-0'"
      ]
    },
    {
      "cell_type": "code",
      "execution_count": null,
      "metadata": {
        "id": "qzQ84qIQelJB"
      },
      "outputs": [],
      "source": [
        "!wget https://raw.githubusercontent.com/tensorflow/models/master/research/object_detection/configs/tf2/ssd_efficientdet_d0_512x512_coco17_tpu-8.config\n",
        "\n",
        "base_config_path = '/content/animal-detection/src/models/efficientdet_d0_coco17_tpu-32/ssd_efficientdet_d0_512x512_coco17_tpu-8.config'"
      ]
    },
    {
      "cell_type": "code",
      "execution_count": null,
      "metadata": {
        "id": "YIQmfoW_LFVT"
      },
      "outputs": [],
      "source": [
        "%cd /content/animal-detection/src/models\n",
        "!mkdir custom-model"
      ]
    },
    {
      "cell_type": "code",
      "execution_count": null,
      "metadata": {
        "id": "azm30w_qLRwK"
      },
      "outputs": [],
      "source": [
        "%cd /content/animal-detection/src/models/custom-model"
      ]
    },
    {
      "cell_type": "code",
      "execution_count": null,
      "metadata": {
        "id": "m3ehVTRgesxS"
      },
      "outputs": [],
      "source": [
        "# edit configuration file (from https://colab.research.google.com/drive/1sLqFKVV94wm-lglFq_0kGo2ciM0kecWD)\n",
        "\n",
        "import re\n",
        "\n",
        "with open(base_config_path) as f:\n",
        "    config = f.read()\n",
        "\n",
        "with open('model_config.config', 'w') as f:\n",
        "\n",
        "  # Set labelmap path\n",
        "  config = re.sub('label_map_path: \".*?\"',\n",
        "             'label_map_path: \"{}\"'.format(labelmap_path), config)\n",
        "\n",
        "  # Set fine_tune_checkpoint path\n",
        "  config = re.sub('fine_tune_checkpoint: \".*?\"',\n",
        "                  'fine_tune_checkpoint: \"{}\"'.format(fine_tune_checkpoint), config)\n",
        "\n",
        "  # Set train tf-record file path\n",
        "  config = re.sub('(input_path: \".*?)(PATH_TO_BE_CONFIGURED/train)(.*?\")',\n",
        "                  'input_path: \"{}\"'.format(train_record_path), config)\n",
        "\n",
        "  # Set test tf-record file path\n",
        "  config = re.sub('(input_path: \".*?)(PATH_TO_BE_CONFIGURED/val)(.*?\")',\n",
        "                  'input_path: \"{}\"'.format(test_record_path), config)\n",
        "\n",
        "  # Set number of classes.\n",
        "  config = re.sub('num_classes: [0-9]+',\n",
        "                  'num_classes: {}'.format(num_classes), config)\n",
        "\n",
        "  # Set batch size\n",
        "  config = re.sub('batch_size: [0-9]+',\n",
        "                  'batch_size: {}'.format(batch_size), config)\n",
        "\n",
        "  # Set training steps\n",
        "  config = re.sub('num_steps: [0-9]+',\n",
        "                  'num_steps: {}'.format(num_steps), config)\n",
        "\n",
        "  # Set fine-tune checkpoint type to detection\n",
        "  config = re.sub('fine_tune_checkpoint_type: \"classification\"',\n",
        "             'fine_tune_checkpoint_type: \"{}\"'.format('detection'), config)\n",
        "\n",
        "  f.write(config)"
      ]
    },
    {
      "cell_type": "code",
      "execution_count": null,
      "metadata": {
        "id": "SmtrS5dihpS_"
      },
      "outputs": [],
      "source": [
        "%cat /content/animal-detection/src/models/custom-model/model_config.config"
      ]
    },
    {
      "cell_type": "code",
      "execution_count": null,
      "metadata": {
        "id": "eRTBSsYthwxG"
      },
      "outputs": [],
      "source": [
        "model_dir = '/content/animal-detection/src/models/custom-model/'\n",
        "pipeline_config_path = '/content/animal-detection/src/models/custom-model/model_config.config'"
      ]
    },
    {
      "cell_type": "markdown",
      "metadata": {
        "id": "Tv0sbQlciKWA"
      },
      "source": [
        "## Train detector"
      ]
    },
    {
      "cell_type": "code",
      "execution_count": null,
      "metadata": {
        "id": "PK8amcT_wgVb"
      },
      "outputs": [],
      "source": [
        "# Run this block first and use the refresh arrow that will appear in the header once the training below starts\n",
        "%load_ext tensorboard\n",
        "%tensorboard --logdir '/content/animal-detection/src/models/custom-model/train'"
      ]
    },
    {
      "cell_type": "code",
      "execution_count": null,
      "metadata": {
        "id": "t2zxx5AXiNNK"
      },
      "outputs": [],
      "source": [
        "!python /content/models/research/object_detection/model_main_tf2.py \\\n",
        "    --pipeline_config_path={pipeline_config_path} \\\n",
        "    --model_dir={model_dir} \\\n",
        "    --alsologtostderr \\\n",
        "    --num_train_steps={num_steps} \\\n",
        "    --sample_1_of_n_eval_examples=1 \\\n",
        "    --num_eval_steps={num_eval_steps}"
      ]
    },
    {
      "cell_type": "markdown",
      "metadata": {
        "id": "U3GNLS4ywstA"
      },
      "source": [
        "## Export model inference graph"
      ]
    },
    {
      "cell_type": "code",
      "execution_count": null,
      "metadata": {
        "id": "WcvbNjcZw2er"
      },
      "outputs": [],
      "source": [
        "output_directory = '/content/animal-detection/src/models/custom-model/inference_graph'\n",
        "\n",
        "!python /content/models/research/object_detection/exporter_main_v2.py \\\n",
        "    --trained_checkpoint_dir {model_dir} \\\n",
        "    --output_directory {output_directory} \\\n",
        "    --pipeline_config_path {pipeline_config_path}"
      ]
    },
    {
      "cell_type": "markdown",
      "metadata": {
        "id": "HAH4TYj-_dgB"
      },
      "source": [
        "### Download model"
      ]
    },
    {
      "cell_type": "code",
      "execution_count": null,
      "metadata": {
        "id": "LcWVXuGAxeZ4"
      },
      "outputs": [],
      "source": [
        "# Zip and download your new model to your system\n",
        "from google.colab import files\n",
        "!zip -r /content/animal-detection/src/models/custom-model/model.zip /content/animal-detection/src/models/custom-model\n",
        "files.download(f'/content/animal-detection/src/models/custom-model/model.zip')"
      ]
    },
    {
      "cell_type": "code",
      "execution_count": null,
      "metadata": {
        "id": "nVqd20ja9ZBX"
      },
      "outputs": [],
      "source": [
        "# Optional: save a copy of the training data to your drive in case you want to re-train later\n",
        "from google.colab import drive\n",
        "drive.mount('/content/drive')\n",
        "!cp -r training/ drive/MyDrive/"
      ]
    }
  ],
  "metadata": {
    "accelerator": "GPU",
    "colab": {
      "gpuType": "T4",
      "provenance": []
    },
    "kernelspec": {
      "display_name": "Python 3",
      "name": "python3"
    },
    "language_info": {
      "codemirror_mode": {
        "name": "ipython",
        "version": 3
      },
      "file_extension": ".py",
      "mimetype": "text/x-python",
      "name": "python",
      "nbconvert_exporter": "python",
      "pygments_lexer": "ipython3",
      "version": "3.9.19"
    }
  },
  "nbformat": 4,
  "nbformat_minor": 0
}
